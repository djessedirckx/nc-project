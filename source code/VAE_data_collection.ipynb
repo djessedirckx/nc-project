{
 "cells": [
  {
   "cell_type": "markdown",
   "metadata": {
    "cell_id": "00000-3f7d2d15-df14-40ea-8161-1367a4d0f7f4",
    "deepnote_cell_type": "code",
    "deepnote_to_be_reexecuted": false,
    "execution_millis": 4,
    "execution_start": 1621976074860,
    "source_hash": "c2b16431",
    "tags": []
   },
   "source": [
    "# VAE: Data collection"
   ]
  },
  {
   "cell_type": "code",
   "execution_count": null,
   "metadata": {},
   "outputs": [],
   "source": [
    "from IPython.display import clear_output"
   ]
  },
  {
   "cell_type": "code",
   "execution_count": null,
   "metadata": {
    "cell_id": "00000-463a81d6-1422-463e-aa77-90182f50cd7f",
    "deepnote_cell_type": "code",
    "deepnote_to_be_reexecuted": false,
    "execution_millis": 6582,
    "execution_start": 1621976151407,
    "source_hash": "40a88274",
    "tags": []
   },
   "outputs": [],
   "source": [
    "!pip install atari_py\n",
    "!pip install gym\n",
    "clear_output()"
   ]
  },
  {
   "cell_type": "code",
   "execution_count": null,
   "metadata": {
    "cell_id": "00001-c74a2a6a-68ad-471b-bd9e-c41010e0ed59",
    "deepnote_cell_type": "code",
    "tags": []
   },
   "outputs": [],
   "source": [
    "!python -m atari_py.import_roms /work/Roms/ROMS/ROMS/\n",
    "clear_output()"
   ]
  },
  {
   "cell_type": "code",
   "execution_count": null,
   "metadata": {
    "cell_id": "00000-535bc20a-9bc6-4dde-a3a6-a6022b4f7b14",
    "deepnote_cell_type": "code",
    "deepnote_to_be_reexecuted": false,
    "execution_millis": 1084,
    "execution_start": 1621975977083,
    "source_hash": "4e7a4bb7",
    "tags": []
   },
   "outputs": [],
   "source": [
    "# dependencies\n",
    "import sys\n",
    "import gym\n",
    "import matplotlib.pyplot as plt\n",
    "import numpy as np\n",
    "import random\n",
    "import atari_py\n",
    "%matplotlib inline"
   ]
  },
  {
   "cell_type": "markdown",
   "metadata": {},
   "source": [
    "## Environment inspection"
   ]
  },
  {
   "cell_type": "code",
   "execution_count": null,
   "metadata": {
    "cell_id": "00001-d1228303-e77f-4391-bd49-ba5b78b46388",
    "deepnote_cell_type": "code",
    "deepnote_to_be_reexecuted": false,
    "execution_millis": 384,
    "execution_start": 1621976179393,
    "source_hash": "c6ddb7b5",
    "tags": []
   },
   "outputs": [
    {
     "name": "stdout",
     "output_type": "stream",
     "text": [
      "observation-space: Box(0, 255, (210, 160, 3), uint8)\n",
      "action-space: Discrete(9)\n",
      "available actions ['NOOP', 'UP', 'RIGHT', 'LEFT', 'DOWN', 'UPRIGHT', 'UPLEFT', 'DOWNRIGHT', 'DOWNLEFT']\n"
     ]
    }
   ],
   "source": [
    "# Create the environment\n",
    "env = gym.make('MsPacman-v0')\n",
    "\n",
    "# Checkout observation and action space\n",
    "obs_space = env.observation_space\n",
    "print('observation-space:', obs_space)\n",
    "action_space = env.action_space\n",
    "print('action-space:', action_space)\n",
    "print('available actions', env.unwrapped.get_action_meanings())"
   ]
  },
  {
   "cell_type": "code",
   "execution_count": null,
   "metadata": {
    "cell_id": "00006-ef03163b-bcf4-4dcb-bcf0-55b16acec674",
    "deepnote_cell_type": "code",
    "deepnote_to_be_reexecuted": false,
    "execution_millis": 225,
    "execution_start": 1621976223973,
    "output_cleared": false,
    "source_hash": "69bc31f3",
    "tags": []
   },
   "outputs": [
    {
     "name": "stdout",
     "output_type": "stream",
     "text": [
      "type: <class 'numpy.ndarray'>\n"
     ]
    },
    {
     "data": {
      "image/png": "[encoded data removed]",
      "text/plain": [
       "<Figure size 432x288 with 1 Axes>"
      ]
     },
     "metadata": {
      "image/png": {
       "height": 252,
       "width": 245
      },
      "needs_background": "light"
     },
     "output_type": "display_data"
    }
   ],
   "source": [
    "# Sample a random state to checkout what it looks like\n",
    "env.reset()\n",
    "state, reward, done, info = env.step(3)\n",
    "image = state\n",
    "\n",
    "x = 0\n",
    "y = 0\n",
    "w = 160\n",
    "h = 170\n",
    "\n",
    "print('type:', type(image))\n",
    "crop_img = image[y:y+h, x:x+w,:]\n",
    "plt.imshow(crop_img)\n",
    "plt.show()"
   ]
  },
  {
   "cell_type": "markdown",
   "metadata": {},
   "source": [
    "## State collection"
   ]
  },
  {
   "cell_type": "code",
   "execution_count": null,
   "metadata": {
    "cell_id": "00003-edcdaad1-22de-4939-a3d3-252bd4f8fece",
    "deepnote_cell_type": "code",
    "deepnote_to_be_reexecuted": false,
    "execution_millis": 5058,
    "execution_start": 1621976253173,
    "output_cleared": false,
    "source_hash": "f05379e1",
    "tags": []
   },
   "outputs": [
    {
     "name": "stdout",
     "output_type": "stream",
     "text": [
      "run: 0\n",
      "run: 1\n",
      "run: 2\n",
      "run: 3\n",
      "run: 4\n",
      "run: 5\n",
      "run: 6\n",
      "run: 7\n",
      "run: 8\n",
      "run: 9\n"
     ]
    },
    {
     "data": {
      "text/plain": [
       "<Figure size 4320x720 with 0 Axes>"
      ]
     },
     "metadata": {},
     "output_type": "display_data"
    }
   ],
   "source": [
    "# rendering\n",
    "plt.figure(figsize = (60,10))\n",
    "render = lambda : plt.imshow(env.render(mode='rgb_array')) # plotting function\n",
    "\n",
    "env.reset()\n",
    "state, reward, done, info = env.step(1)\n",
    "\n",
    "def reformat_state(state):\n",
    "    x = 0\n",
    "    y = 0\n",
    "    w = 160\n",
    "    h = 170\n",
    "\n",
    "    state = state[y:y+h, x:x+w,:]\n",
    "    return state\n",
    "\n",
    "def collect_states(runs):\n",
    "    state_list = []\n",
    "    for i in range(runs):    # how many runs\n",
    "        print(f\"run: {i}\")\n",
    "\n",
    "        done = False\n",
    "\n",
    "        env.reset()\n",
    "        state, reward, done, info = env.step(1)\n",
    "        lives = info['ale.lives']\n",
    "\n",
    "        counter = 0\n",
    "\n",
    "        for j in range(10000):    # steps in the environment\n",
    "\n",
    "            if done != True:\n",
    "                action = env.action_space.sample()\n",
    "                state, reward, done, info = env.step(action)\n",
    "            else: \n",
    "                break\n",
    "            \n",
    "            if lives > info['ale.lives']:\n",
    "                lives = info['ale.lives']\n",
    "                counter = 0 \n",
    "\n",
    "            if counter > 90:   # avoid the first 90 steps\n",
    "                state_list.append(reformat_state(state).flatten())\n",
    "\n",
    "            counter += 1\n",
    "\n",
    "\n",
    "    random.shuffle(state_list)\n",
    "    return state_list\n",
    "\n",
    "collected_states = collect_states(10)\n",
    "# 10 gives 6906 frames"
   ]
  },
  {
   "cell_type": "code",
   "execution_count": null,
   "metadata": {
    "cell_id": "00007-3744a83c-4851-4636-86da-efc89f00fc69",
    "deepnote_cell_type": "code",
    "deepnote_to_be_reexecuted": false,
    "execution_millis": 12731,
    "execution_start": 1621339956131,
    "output_cleared": true,
    "source_hash": "5342752a",
    "tags": []
   },
   "outputs": [],
   "source": [
    "# Visualise the first 100 collected states (for debugging)\n",
    "for i in range(100): # range(len(collected_states)):\n",
    "\n",
    "    if i % 1 == 0:\n",
    "        print(i)\n",
    "        plt.imshow(collected_states[i].reshape(170, 160, 3))\n",
    "        plt.show()"
   ]
  },
  {
   "cell_type": "code",
   "execution_count": null,
   "metadata": {
    "cell_id": "00008-756fab36-cdc7-4e2a-a7ac-5becbe37a7c2",
    "deepnote_cell_type": "code",
    "deepnote_to_be_reexecuted": false,
    "execution_millis": 9,
    "execution_start": 1621976270840,
    "source_hash": "a3c0ef19",
    "tags": []
   },
   "outputs": [
    {
     "data": {
      "text/plain": [
       "30128"
      ]
     },
     "execution_count": 18,
     "metadata": {},
     "output_type": "execute_result"
    }
   ],
   "source": [
    "# Checkout the in-memory size of the collected states\n",
    "sys.getsizeof(collected_states)"
   ]
  },
  {
   "cell_type": "code",
   "execution_count": null,
   "metadata": {
    "cell_id": "00010-1d910d60-109e-4b9b-8b40-29a666086468",
    "deepnote_cell_type": "code",
    "deepnote_to_be_reexecuted": false,
    "execution_millis": 28529,
    "execution_start": 1621976325101,
    "source_hash": "194a0e3b",
    "tags": []
   },
   "outputs": [],
   "source": [
    "# Save the collected states to the harddrive\n",
    "for i in range(5):\n",
    "    collected_states = collect_states(10)\n",
    "    np.save(f\"VAE-input-new/collected_states_{i}.npy\", collected_states)"
   ]
  },
  {
   "cell_type": "markdown",
   "metadata": {},
   "source": [
    "## Checkout the behavior of a random agent"
   ]
  },
  {
   "cell_type": "code",
   "execution_count": null,
   "metadata": {
    "cell_id": "00004-11979bce-2f38-4c0f-87bc-dade28cb2314",
    "deepnote_cell_type": "code",
    "deepnote_to_be_reexecuted": false,
    "execution_millis": 38442,
    "execution_start": 1620119067001,
    "source_hash": "ff7605f",
    "tags": []
   },
   "outputs": [],
   "source": [
    "# outer collector\n",
    "meta_cumulative_reward = []\n",
    "meta_counter = []\n",
    "\n",
    "for i in range(100):\n",
    "\n",
    "    # setting the environment\n",
    "    env.reset()\n",
    "    env.step(1)\n",
    "\n",
    "    # inner collector\n",
    "    cumulative_reward = 0 \n",
    "    counter = 0 \n",
    "\n",
    "    done = False\n",
    "\n",
    "    # stop when done flag is raised\n",
    "    while done != True:\n",
    "        a = random.sample(range(0, 8), 1)   # choose action randomly\n",
    "        state, reward, done, info = env.step(a)\n",
    "\n",
    "        # keep track\n",
    "        cumulative_reward += reward\n",
    "        counter += 1\n",
    "    \n",
    "    meta_cumulative_reward.append(cumulative_reward)\n",
    "    meta_counter.append(counter)"
   ]
  },
  {
   "cell_type": "code",
   "execution_count": null,
   "metadata": {
    "cell_id": "00005-4e8f54d3-22ec-4c21-a3d5-e2a9b76fac3d",
    "deepnote_cell_type": "code",
    "deepnote_to_be_reexecuted": false,
    "execution_millis": 250,
    "execution_start": 1620119243761,
    "source_hash": "d308bd1f",
    "tags": []
   },
   "outputs": [
    {
     "data": {
      "image/png": "[encoded data removed]",
      "text/plain": [
       "<Figure size 720x432 with 1 Axes>"
      ]
     },
     "metadata": {
      "image/png": {
       "height": 398,
       "width": 617
      },
      "needs_background": "light"
     },
     "output_type": "display_data"
    }
   ],
   "source": [
    "import matplotlib.pyplot as plt\n",
    "plt.rcParams.update({'font.size': 15})\n",
    "\n",
    "# plot results\n",
    "plt.figure(figsize=(10, 6))\n",
    "plt.hist(meta_cumulative_reward, density=False, bins=20, color='slategray')\n",
    "plt.style.use('ggplot')\n",
    "plt.title('Reward distributions for a randomm agent (100 games)')\n",
    "plt.ylabel('Games')\n",
    "plt.xlabel('Obtained reward');\n",
    "plt.savefig('random-agent-pinball.pdf')\n",
    "plt.show()"
   ]
  }
 ],
 "metadata": {
  "deepnote": {
   "is_reactive": false
  },
  "deepnote_execution_queue": [],
  "deepnote_notebook_id": "bdf457da-99e0-4a1b-9d55-93620495f407",
  "kernelspec": {
   "display_name": "Python 3",
   "language": "python",
   "name": "python3"
  },
  "language_info": {
   "codemirror_mode": {
    "name": "ipython",
    "version": 3
   },
   "file_extension": ".py",
   "mimetype": "text/x-python",
   "name": "python",
   "nbconvert_exporter": "python",
   "pygments_lexer": "ipython3",
   "version": "3.8.5"
  }
 },
 "nbformat": 4,
 "nbformat_minor": 2
}
